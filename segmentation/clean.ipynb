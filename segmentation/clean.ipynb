{
 "cells": [
  {
   "cell_type": "code",
   "execution_count": 13,
   "id": "2ea67582-4db9-43c7-a414-022476b34b0d",
   "metadata": {},
   "outputs": [
    {
     "data": {
      "text/plain": [
       "'/home/noob/koty/new_before_last/project-ano/predictions-stage2/2_try.png'"
      ]
     },
     "execution_count": 13,
     "metadata": {},
     "output_type": "execute_result"
    }
   ],
   "source": [
    "import cv2\n",
    "import numpy as np\n",
    "\n",
    "# Load the image in color\n",
    "img_path = '/home/noob/koty/new_before_last/project-ano/predictions-stage2/2.png'\n",
    "img = cv2.imread(img_path)\n",
    "\n",
    "# Convert from BGR (OpenCV default) to RGB\n",
    "img_rgb = cv2.cvtColor(img, cv2.COLOR_BGR2RGB)\n",
    "\n",
    "# Split into R, G, B channels\n",
    "r, g, b = cv2.split(img_rgb)\n",
    "\n",
    "# Create CLAHE object\n",
    "clahe = cv2.createCLAHE(clipLimit=2.0, tileGridSize=(8, 8))\n",
    "\n",
    "# Apply CLAHE per channel\n",
    "r_clahe = clahe.apply(r)\n",
    "g_clahe = clahe.apply(g)\n",
    "b_clahe = clahe.apply(b)\n",
    "\n",
    "cleaned_rgb = cv2.merge([r_clahe, g_clahe, b_clahe])\n",
    "\n",
    "# Crop borders slightly to avoid edge artifacts (optional)\n",
    "height, width, _ = cleaned_rgb.shape\n",
    "cropped = cleaned_rgb[150:height-100, 50:width-50]\n",
    "\n",
    "# Convert back to BGR for saving with OpenCV\n",
    "output_img = cv2.cvtColor(cropped, cv2.COLOR_RGB2BGR)\n",
    "\n",
    "# Save the result\n",
    "output_path = '/home/noob/koty/new_before_last/project-ano/predictions-stage2/2_try.png'\n",
    "cv2.imwrite(output_path, output_img)\n",
    "\n",
    "output_path\n"
   ]
  },
  {
   "cell_type": "code",
   "execution_count": null,
   "id": "ec25ff51-75f0-4e47-9bfe-01d3b129d1d8",
   "metadata": {},
   "outputs": [],
   "source": []
  }
 ],
 "metadata": {
  "kernelspec": {
   "display_name": "Python 3 (ipykernel)",
   "language": "python",
   "name": "python3"
  },
  "language_info": {
   "codemirror_mode": {
    "name": "ipython",
    "version": 3
   },
   "file_extension": ".py",
   "mimetype": "text/x-python",
   "name": "python",
   "nbconvert_exporter": "python",
   "pygments_lexer": "ipython3",
   "version": "3.12.11"
  }
 },
 "nbformat": 4,
 "nbformat_minor": 5
}
