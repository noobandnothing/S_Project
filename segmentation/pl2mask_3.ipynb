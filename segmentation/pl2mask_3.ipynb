{
 "cells": [
  {
   "cell_type": "code",
   "execution_count": 1,
   "id": "204de9ec-3da7-400b-b01f-e80fcb0aff68",
   "metadata": {},
   "outputs": [],
   "source": [
    "import os\n",
    "import json\n",
    "import numpy as np\n",
    "from PIL import Image, ImageDraw"
   ]
  },
  {
   "cell_type": "code",
   "execution_count": 2,
   "id": "9ba2c24a-cd15-4ea9-ace4-53056ae92a43",
   "metadata": {},
   "outputs": [],
   "source": [
    "image_dir = \"/home/noob/koty/new_before_last/project-ano/shit\"\n",
    "mask_dir = \"/home/noob/koty/new_before_last/project-ano/masks-shit\""
   ]
  },
  {
   "cell_type": "code",
   "execution_count": 3,
   "id": "9ac2567b-e660-4475-964f-8631dbb04560",
   "metadata": {},
   "outputs": [],
   "source": [
    "os.makedirs(mask_dir, exist_ok=True)"
   ]
  },
  {
   "cell_type": "code",
   "execution_count": 4,
   "id": "2bf08f11-0d79-4285-92ab-3f5c01d71c22",
   "metadata": {},
   "outputs": [],
   "source": [
    "class_mapping = {\n",
    "    \"Eppendorf\": 1,           # Class 1\n",
    "    \"empty_part\": 2,          # Class 2\n",
    "    \"importat_liquid\": 3      # Class 3\n",
    "}"
   ]
  },
  {
   "cell_type": "code",
   "execution_count": 5,
   "id": "7cf8e0fb-13d9-45b5-adda-21019efa697e",
   "metadata": {},
   "outputs": [],
   "source": [
    "def create_multiclass_mask(json_path, class_mapping):\n",
    "    \"\"\"\n",
    "    Convert LabelMe JSON annotations to multi-class segmentation masks\n",
    "    \"\"\"\n",
    "    with open(json_path, \"r\") as f:\n",
    "        data = json.load(f)\n",
    "    \n",
    "    # Get image dimensions\n",
    "    width = data['imageWidth']\n",
    "    height = data['imageHeight']\n",
    "    \n",
    "    # Create empty mask (background = 0)\n",
    "    mask = np.zeros((height, width), dtype=np.uint8)\n",
    "    \n",
    "    # Track which classes were found\n",
    "    found_classes = set()\n",
    "    \n",
    "    # Process each shape/annotation\n",
    "    for shape in data[\"shapes\"]:\n",
    "        label = shape[\"label\"]\n",
    "        \n",
    "        if label in class_mapping:\n",
    "            class_id = class_mapping[label]\n",
    "            found_classes.add(label)\n",
    "            \n",
    "            # Create temporary PIL image for drawing\n",
    "            temp_mask = Image.new(\"L\", (width, height), 0)\n",
    "            draw = ImageDraw.Draw(temp_mask)\n",
    "            \n",
    "            # Convert points to tuples\n",
    "            points = [tuple(point) for point in shape[\"points\"]]\n",
    "            \n",
    "            # Draw filled polygon\n",
    "            draw.polygon(points, outline=class_id, fill=class_id)\n",
    "            \n",
    "            # Convert to numpy and overlay on main mask\n",
    "            temp_np = np.array(temp_mask)\n",
    "            \n",
    "            # Only update pixels where temp_mask is non-zero\n",
    "            # This handles overlapping annotations (later ones take priority)\n",
    "            mask[temp_np > 0] = temp_np[temp_np > 0]\n",
    "        else:\n",
    "            # Skip unknown labels - they remain as background (class 0)\n",
    "            print(f\"⚠️ Label '{label}' in {os.path.basename(json_path)} -> treating as background\")\n",
    "    \n",
    "    return mask, found_classes\n"
   ]
  },
  {
   "cell_type": "code",
   "execution_count": 6,
   "id": "56f670ce-36bf-42d2-bebe-b2a0d3d656c8",
   "metadata": {},
   "outputs": [],
   "source": [
    "def save_mask_variants(mask, base_name, mask_dir):\n",
    "    \"\"\"\n",
    "    Save mask in different formats\n",
    "    \"\"\"\n",
    "    # Save raw mask (class IDs as pixel values)\n",
    "    mask_path = os.path.join(mask_dir, f\"{base_name}_mask.png\")\n",
    "    Image.fromarray(mask).save(mask_path)\n",
    "    \n",
    "    # Save colorized version for visualization\n",
    "    colorized_mask = create_colorized_mask(mask)\n",
    "    colorized_path = os.path.join(mask_dir, f\"{base_name}_mask_colored.png\")\n",
    "    colorized_mask.save(colorized_path)\n",
    "    \n",
    "    return mask_path, colorized_path\n"
   ]
  },
  {
   "cell_type": "code",
   "execution_count": 7,
   "id": "3a4c11cd-ad99-4dbe-8fcf-daa1f3ab8cbe",
   "metadata": {},
   "outputs": [],
   "source": [
    "def create_colorized_mask(mask):\n",
    "    \"\"\"\n",
    "    Create a colorized version of the mask for better visualization\n",
    "    \"\"\"\n",
    "    # Define colors for each class (RGB)\n",
    "    colors = {\n",
    "        0: (0, 0, 0),       # Background - Black\n",
    "        1: (255, 0, 0),     # Class 1 - Red\n",
    "        2: (0, 255, 0),     # Class 2 - Green\n",
    "        3: (0, 0, 255),     # Class 3 - Blue\n",
    "    }\n",
    "    \n",
    "    height, width = mask.shape\n",
    "    colored_mask = np.zeros((height, width, 3), dtype=np.uint8)\n",
    "    \n",
    "    for class_id, color in colors.items():\n",
    "        colored_mask[mask == class_id] = color\n",
    "    \n",
    "    return Image.fromarray(colored_mask)\n"
   ]
  },
  {
   "cell_type": "code",
   "execution_count": 8,
   "id": "c4b17604-b3d9-4ee3-ae52-2d8177ff4625",
   "metadata": {},
   "outputs": [],
   "source": [
    "def print_statistics(all_found_classes, total_files):\n",
    "    \"\"\"\n",
    "    Print processing statistics\n",
    "    \"\"\"\n",
    "    print(f\"\\n📊 Processing Statistics:\")\n",
    "    print(f\"Total files processed: {total_files}\")\n",
    "    print(f\"Classes found across all files: {sorted(all_found_classes)}\")\n",
    "    \n",
    "    class_counts = {label: 0 for label in class_mapping.keys()}\n",
    "    # Note: You might want to track per-file statistics for more detailed reporting\n"
   ]
  },
  {
   "cell_type": "code",
   "execution_count": 9,
   "id": "9bbcc4ec-6d85-44c3-a651-3f575ddf8642",
   "metadata": {},
   "outputs": [
    {
     "name": "stdout",
     "output_type": "stream",
     "text": [
      "🚀 Starting multi-class mask conversion...\n",
      "Class mapping: {'Eppendorf': 1, 'empty_part': 2, 'importat_liquid': 3}\n",
      "Input directory: /home/noob/koty/new_before_last/project-ano/shit\n",
      "Output directory: /home/noob/koty/new_before_last/project-ano/masks-shit\n",
      "--------------------------------------------------\n"
     ]
    }
   ],
   "source": [
    "# Main processing loop\n",
    "print(f\"🚀 Starting multi-class mask conversion...\")\n",
    "print(f\"Class mapping: {class_mapping}\")\n",
    "print(f\"Input directory: {image_dir}\")\n",
    "print(f\"Output directory: {mask_dir}\")\n",
    "print(\"-\" * 50)\n"
   ]
  },
  {
   "cell_type": "code",
   "execution_count": 10,
   "id": "998176be-9fba-4519-aa32-dee93b984bc0",
   "metadata": {},
   "outputs": [
    {
     "name": "stdout",
     "output_type": "stream",
     "text": [
      "✅ 1.json\n",
      "   Classes found: ['Eppendorf', 'empty_part', 'importat_liquid']\n",
      "   Saved: 1_mask.png\n",
      "   Colored: 1_mask_colored.png\n",
      "   Class distribution: {np.uint8(0): np.int64(1585416), np.uint8(1): np.int64(8614), np.uint8(2): np.int64(11733), np.uint8(3): np.int64(32637)}\n",
      "\n",
      "✅ 4.json\n",
      "   Classes found: ['Eppendorf', 'importat_liquid']\n",
      "   Saved: 4_mask.png\n",
      "   Colored: 4_mask_colored.png\n",
      "   Class distribution: {np.uint8(0): np.int64(1580577), np.uint8(1): np.int64(12234), np.uint8(3): np.int64(45589)}\n",
      "\n",
      "✅ 3.json\n",
      "   Classes found: ['Eppendorf', 'empty_part', 'importat_liquid']\n",
      "   Saved: 3_mask.png\n",
      "   Colored: 3_mask_colored.png\n",
      "   Class distribution: {np.uint8(0): np.int64(1584129), np.uint8(1): np.int64(9325), np.uint8(2): np.int64(12681), np.uint8(3): np.int64(32265)}\n",
      "\n",
      "✅ 5.json\n",
      "   Classes found: ['Eppendorf', 'empty_part', 'importat_liquid']\n",
      "   Saved: 5_mask.png\n",
      "   Colored: 5_mask_colored.png\n",
      "   Class distribution: {np.uint8(0): np.int64(1583247), np.uint8(1): np.int64(9486), np.uint8(2): np.int64(12220), np.uint8(3): np.int64(33447)}\n",
      "\n",
      "✅ 2.json\n",
      "   Classes found: ['Eppendorf', 'empty_part', 'importat_liquid']\n",
      "   Saved: 2_mask.png\n",
      "   Colored: 2_mask_colored.png\n",
      "   Class distribution: {np.uint8(0): np.int64(1583589), np.uint8(1): np.int64(9610), np.uint8(2): np.int64(11510), np.uint8(3): np.int64(33691)}\n",
      "\n"
     ]
    }
   ],
   "source": [
    "all_found_classes = set()\n",
    "processed_files = 0\n",
    "\n",
    "for filename in os.listdir(image_dir):\n",
    "    if not filename.endswith(\".json\"):\n",
    "        continue\n",
    "    \n",
    "    json_path = os.path.join(image_dir, filename)\n",
    "    \n",
    "    try:\n",
    "        # Create multi-class mask\n",
    "        mask, found_classes = create_multiclass_mask(json_path, class_mapping)\n",
    "        \n",
    "        # Update global statistics\n",
    "        all_found_classes.update(found_classes)\n",
    "        processed_files += 1\n",
    "        \n",
    "        # Get base name for output files\n",
    "        with open(json_path, \"r\") as f:\n",
    "            data = json.load(f)\n",
    "        base_name = os.path.splitext(data[\"imagePath\"])[0]\n",
    "        \n",
    "        # Save masks\n",
    "        mask_path, colored_path = save_mask_variants(mask, base_name, mask_dir)\n",
    "        \n",
    "        # Print progress\n",
    "        print(f\"✅ {filename}\")\n",
    "        print(f\"   Classes found: {sorted(found_classes) if found_classes else ['None']}\")\n",
    "        print(f\"   Saved: {os.path.basename(mask_path)}\")\n",
    "        print(f\"   Colored: {os.path.basename(colored_path)}\")\n",
    "        \n",
    "        # Show class distribution in this mask\n",
    "        unique_classes, counts = np.unique(mask, return_counts=True)\n",
    "        class_stats = dict(zip(unique_classes, counts))\n",
    "        print(f\"   Class distribution: {class_stats}\")\n",
    "        print()\n",
    "        \n",
    "    except Exception as e:\n",
    "        print(f\"❌ Error processing {filename}: {str(e)}\")\n",
    "        continue"
   ]
  },
  {
   "cell_type": "code",
   "execution_count": 11,
   "id": "912052f5-732f-47f8-bac3-c51ee153001b",
   "metadata": {},
   "outputs": [
    {
     "name": "stdout",
     "output_type": "stream",
     "text": [
      "\n",
      "📊 Processing Statistics:\n",
      "Total files processed: 5\n",
      "Classes found across all files: ['Eppendorf', 'empty_part', 'importat_liquid']\n",
      "\n",
      "🎉 Conversion complete!\n",
      "Raw masks saved with class IDs (0-3) as pixel values\n",
      "Colored masks saved for visualization\n"
     ]
    }
   ],
   "source": [
    "print_statistics(all_found_classes, processed_files)\n",
    "\n",
    "print(f\"\\n🎉 Conversion complete!\")\n",
    "print(f\"Raw masks saved with class IDs (0-3) as pixel values\")\n",
    "print(f\"Colored masks saved for visualization\")"
   ]
  }
 ],
 "metadata": {
  "kernelspec": {
   "display_name": "Python 3 (ipykernel)",
   "language": "python",
   "name": "python3"
  },
  "language_info": {
   "codemirror_mode": {
    "name": "ipython",
    "version": 3
   },
   "file_extension": ".py",
   "mimetype": "text/x-python",
   "name": "python",
   "nbconvert_exporter": "python",
   "pygments_lexer": "ipython3",
   "version": "3.10.18"
  }
 },
 "nbformat": 4,
 "nbformat_minor": 5
}
